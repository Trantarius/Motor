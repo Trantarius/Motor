{
 "cells": [
  {
   "cell_type": "code",
   "execution_count": 86,
   "metadata": {},
   "outputs": [],
   "source": [
    "from sympy import *\n",
    "M=MatrixSymbol('M',4,4)"
   ]
  },
  {
   "cell_type": "code",
   "execution_count": 87,
   "metadata": {},
   "outputs": [],
   "source": [
    "M=M.as_mutable()\n",
    "iM=M.inverse_BLOCK()"
   ]
  },
  {
   "cell_type": "code",
   "execution_count": 88,
   "metadata": {},
   "outputs": [
    {
     "name": "stdout",
     "output_type": "stream",
     "text": [
      "#include \".h\"\n",
      "#include <math.h>\n",
      "\n",
      "void inv(double *M, double *out_1548552332560033075) {\n",
      "   const double x0 = 1.0/M[0];\n",
      "   const double x1 = x0*M[12];\n",
      "   const double x2 = -x1*M[1] + M[13];\n",
      "   const double x3 = x0*M[4];\n",
      "   const double x4 = 1.0/(-x3*M[1] + M[5]);\n",
      "   const double x5 = x0*M[8];\n",
      "   const double x6 = -x5*M[1] + M[9];\n",
      "   const double x7 = -x0*x4*x6*M[4] + x5;\n",
      "   const double x8 = -x3*M[2] + M[6];\n",
      "   const double x9 = x4*x6;\n",
      "   const double x10 = 1.0/(-x5*M[2] - x8*x9 + M[10]);\n",
      "   const double x11 = x2*x4;\n",
      "   const double x12 = -x1*M[2] - x11*x8 + M[14];\n",
      "   const double x13 = x10*x12;\n",
      "   const double x14 = x0*x2*x4*M[4] - x1 + x13*x7;\n",
      "   const double x15 = -x3*M[3] + M[7];\n",
      "   const double x16 = -x15*x9 - x5*M[3] + M[11];\n",
      "   const double x17 = x13*x16;\n",
      "   const double x18 = 1.0/(-x1*M[3] - x11*x15 - x17 + M[15]);\n",
      "   const double x19 = x18*M[3];\n",
      "   const double x20 = x14*x18;\n",
      "   const double x21 = x10*(-x16*x20 - x7);\n",
      "   const double x22 = x15*x18;\n",
      "   const double x23 = x4*(-x14*x22 - x21*x8 - x3);\n",
      "   const double x24 = -x11 + x13*x9;\n",
      "   const double x25 = x18*x24;\n",
      "   const double x26 = x10*(-x16*x25 - x9);\n",
      "   const double x27 = x4*(-x22*x24 - x26*x8 + 1);\n",
      "   const double x28 = x10*(x17*x18 + 1);\n",
      "   const double x29 = x4*(x10*x12*x15*x18 - x28*x8);\n",
      "   const double x30 = x10*x16*x18;\n",
      "   const double x31 = x4*(-x22 + x30*x8);\n",
      "\n",
      "   out_1548552332560033075[0] = x0*(-x14*x19 - x21*M[2] - x23*M[1] + 1);\n",
      "   out_1548552332560033075[1] = x0*(-x19*x24 - x26*M[2] - x27*M[1]);\n",
      "   out_1548552332560033075[2] = x0*(x10*x12*x18*M[3] - x28*M[2] - x29*M[1]);\n",
      "   out_1548552332560033075[3] = x0*(x10*x16*x18*M[2] - x19 - x31*M[1]);\n",
      "   out_1548552332560033075[4] = x23;\n",
      "   out_1548552332560033075[5] = x27;\n",
      "   out_1548552332560033075[6] = x29;\n",
      "   out_1548552332560033075[7] = x31;\n",
      "   out_1548552332560033075[8] = x21;\n",
      "   out_1548552332560033075[9] = x26;\n",
      "   out_1548552332560033075[10] = x28;\n",
      "   out_1548552332560033075[11] = -x30;\n",
      "   out_1548552332560033075[12] = x20;\n",
      "   out_1548552332560033075[13] = x25;\n",
      "   out_1548552332560033075[14] = -x13*x18;\n",
      "   out_1548552332560033075[15] = x18;\n",
      "\n",
      "}\n"
     ]
    }
   ],
   "source": [
    "from sympy.utilities.codegen import CCodeGen, make_routine\n",
    "import sys\n",
    "\n",
    "gen=CCodeGen(cse=True)\n",
    "rout=gen.routine('inv',iM)\n",
    "gen.dump_c([rout],sys.stdout,\"\",header=False)"
   ]
  },
  {
   "cell_type": "code",
   "execution_count": 89,
   "metadata": {},
   "outputs": [],
   "source": [
    "def superrec(thing,func):\n",
    "    out=[]\n",
    "    for item in thing:\n",
    "        isiter=False\n",
    "        try:\n",
    "            iter(item)\n",
    "            isiter=True\n",
    "        except:\n",
    "            pass\n",
    "\n",
    "        if(isiter):\n",
    "            out = out + superrec(item,func)\n",
    "        else:\n",
    "            out.append(func(item))\n",
    "    return out"
   ]
  },
  {
   "cell_type": "code",
   "execution_count": 90,
   "metadata": {},
   "outputs": [
    {
     "data": {
      "text/plain": [
       "119"
      ]
     },
     "execution_count": 90,
     "metadata": {},
     "output_type": "execute_result"
    }
   ],
   "source": [
    "def rec_count(thing):\n",
    "    if(hasattr(thing,'count_ops')):\n",
    "        return thing.count_ops()\n",
    "    return 0\n",
    "sum(superrec(cse(iM),rec_count))"
   ]
  },
  {
   "cell_type": "code",
   "execution_count": 91,
   "metadata": {},
   "outputs": [
    {
     "data": {
      "text/plain": [
       "3845"
      ]
     },
     "execution_count": 91,
     "metadata": {},
     "output_type": "execute_result"
    }
   ],
   "source": [
    "sum(superrec(iM,rec_count))"
   ]
  },
  {
   "cell_type": "code",
   "execution_count": null,
   "metadata": {},
   "outputs": [],
   "source": []
  }
 ],
 "metadata": {
  "kernelspec": {
   "display_name": "Python 3",
   "language": "python",
   "name": "python3"
  },
  "language_info": {
   "codemirror_mode": {
    "name": "ipython",
    "version": 3
   },
   "file_extension": ".py",
   "mimetype": "text/x-python",
   "name": "python",
   "nbconvert_exporter": "python",
   "pygments_lexer": "ipython3",
   "version": "3.11.5"
  }
 },
 "nbformat": 4,
 "nbformat_minor": 2
}
