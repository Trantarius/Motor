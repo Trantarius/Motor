{
 "cells": [
  {
   "cell_type": "code",
   "execution_count": 8,
   "metadata": {},
   "outputs": [],
   "source": [
    "from sympy import *\n",
    "from sympy.vector import *\n",
    "\n",
    "Space=CoordSys3D('ViewSpace')\n",
    "ColorSpace=CoordSys3D('Color')\n",
    "i=Space.i; j=Space.j; k=Space.k\n",
    "r=ColorSpace.i; g=ColorSpace.j; b=ColorSpace.k\n",
    "\n",
    "def makeVector(name):\n",
    "    return Symbol(name+\"_x\")*i + Symbol(name+\"_y\")*j + Symbol(name+\"_z\")*k\n",
    "def makeColor(name):\n",
    "    return Symbol(name+\"_r\")*r + Symbol(name+\"_g\")*g + Symbol(name+\"_b\")*b\n",
    "\n",
    "Energy=Symbol('E')\n",
    "Lpos=makeVector('L')\n",
    "Lcol=makeColor('C')\n",
    "View=makeVector('V')\n",
    "Norm=makeVector('N')\n"
   ]
  },
  {
   "cell_type": "code",
   "execution_count": 9,
   "metadata": {},
   "outputs": [],
   "source": [
    "def superrec(thing,func):\n",
    "    out=[]\n",
    "    for item in thing:\n",
    "        isiter=False\n",
    "        try:\n",
    "            iter(item)\n",
    "            isiter=True\n",
    "        except:\n",
    "            pass\n",
    "\n",
    "        if(isiter):\n",
    "            out = out + superrec(item,func)\n",
    "        else:\n",
    "            out.append(func(item))\n",
    "    return out\n",
    "\n",
    "def rec_count(thing):\n",
    "    if(hasattr(thing,'count_ops')):\n",
    "        return thing.count_ops()\n",
    "    return 0\n",
    "\n",
    "def compute_cost(ex):\n",
    "    return sum(superrec(cse(ex),rec_count))\n",
    "\n",
    "class CseNamer:\n",
    "    name = \"tmp\"\n",
    "    counter = 0\n",
    "\n",
    "    def __iter__(self):\n",
    "        return self\n",
    "    \n",
    "    def __next__(self):\n",
    "        self.counter+=1\n",
    "        return self.name+str(self.counter)"
   ]
  },
  {
   "cell_type": "code",
   "execution_count": 10,
   "metadata": {},
   "outputs": [
    {
     "data": {
      "text/latex": [
       "$\\displaystyle diffuse = - \\frac{N_{x} \\left(- L_{x} + V_{x}\\right)}{\\sqrt{\\left(- L_{x} + V_{x}\\right)^{2} + \\left(- L_{y} + V_{y}\\right)^{2} + \\left(- L_{z} + V_{z}\\right)^{2}}} - \\frac{N_{y} \\left(- L_{y} + V_{y}\\right)}{\\sqrt{\\left(- L_{x} + V_{x}\\right)^{2} + \\left(- L_{y} + V_{y}\\right)^{2} + \\left(- L_{z} + V_{z}\\right)^{2}}} - \\frac{N_{z} \\left(- L_{z} + V_{z}\\right)}{\\sqrt{\\left(- L_{x} + V_{x}\\right)^{2} + \\left(- L_{y} + V_{y}\\right)^{2} + \\left(- L_{z} + V_{z}\\right)^{2}}}$"
      ],
      "text/plain": [
       "Eq(diffuse, -N_x*(-L_x + V_x)/sqrt((-L_x + V_x)**2 + (-L_y + V_y)**2 + (-L_z + V_z)**2) - N_y*(-L_y + V_y)/sqrt((-L_x + V_x)**2 + (-L_y + V_y)**2 + (-L_z + V_z)**2) - N_z*(-L_z + V_z)/sqrt((-L_x + V_x)**2 + (-L_y + V_y)**2 + (-L_z + V_z)**2))"
      ]
     },
     "metadata": {},
     "output_type": "display_data"
    },
    {
     "data": {
      "text/latex": [
       "$\\displaystyle specular = \\max\\left(0, - V_{x} \\left(\\frac{- L_{x} + V_{x}}{\\sqrt{\\left(- L_{x} + V_{x}\\right)^{2} + \\left(- L_{y} + V_{y}\\right)^{2} + \\left(- L_{z} + V_{z}\\right)^{2}}} - \\frac{2 \\left(- L_{x} + V_{x}\\right) \\left(\\frac{N_{x} \\left(- L_{x} + V_{x}\\right)}{\\sqrt{\\left(- L_{x} + V_{x}\\right)^{2} + \\left(- L_{y} + V_{y}\\right)^{2} + \\left(- L_{z} + V_{z}\\right)^{2}}} + \\frac{N_{y} \\left(- L_{y} + V_{y}\\right)}{\\sqrt{\\left(- L_{x} + V_{x}\\right)^{2} + \\left(- L_{y} + V_{y}\\right)^{2} + \\left(- L_{z} + V_{z}\\right)^{2}}} + \\frac{N_{z} \\left(- L_{z} + V_{z}\\right)}{\\sqrt{\\left(- L_{x} + V_{x}\\right)^{2} + \\left(- L_{y} + V_{y}\\right)^{2} + \\left(- L_{z} + V_{z}\\right)^{2}}}\\right)}{\\left(\\frac{\\left(- L_{x} + V_{x}\\right)^{2}}{\\left(- L_{x} + V_{x}\\right)^{2} + \\left(- L_{y} + V_{y}\\right)^{2} + \\left(- L_{z} + V_{z}\\right)^{2}} + \\frac{\\left(- L_{y} + V_{y}\\right)^{2}}{\\left(- L_{x} + V_{x}\\right)^{2} + \\left(- L_{y} + V_{y}\\right)^{2} + \\left(- L_{z} + V_{z}\\right)^{2}} + \\frac{\\left(- L_{z} + V_{z}\\right)^{2}}{\\left(- L_{x} + V_{x}\\right)^{2} + \\left(- L_{y} + V_{y}\\right)^{2} + \\left(- L_{z} + V_{z}\\right)^{2}}\\right) \\sqrt{\\left(- L_{x} + V_{x}\\right)^{2} + \\left(- L_{y} + V_{y}\\right)^{2} + \\left(- L_{z} + V_{z}\\right)^{2}}}\\right) - V_{y} \\left(\\frac{- L_{y} + V_{y}}{\\sqrt{\\left(- L_{x} + V_{x}\\right)^{2} + \\left(- L_{y} + V_{y}\\right)^{2} + \\left(- L_{z} + V_{z}\\right)^{2}}} - \\frac{2 \\left(- L_{y} + V_{y}\\right) \\left(\\frac{N_{x} \\left(- L_{x} + V_{x}\\right)}{\\sqrt{\\left(- L_{x} + V_{x}\\right)^{2} + \\left(- L_{y} + V_{y}\\right)^{2} + \\left(- L_{z} + V_{z}\\right)^{2}}} + \\frac{N_{y} \\left(- L_{y} + V_{y}\\right)}{\\sqrt{\\left(- L_{x} + V_{x}\\right)^{2} + \\left(- L_{y} + V_{y}\\right)^{2} + \\left(- L_{z} + V_{z}\\right)^{2}}} + \\frac{N_{z} \\left(- L_{z} + V_{z}\\right)}{\\sqrt{\\left(- L_{x} + V_{x}\\right)^{2} + \\left(- L_{y} + V_{y}\\right)^{2} + \\left(- L_{z} + V_{z}\\right)^{2}}}\\right)}{\\left(\\frac{\\left(- L_{x} + V_{x}\\right)^{2}}{\\left(- L_{x} + V_{x}\\right)^{2} + \\left(- L_{y} + V_{y}\\right)^{2} + \\left(- L_{z} + V_{z}\\right)^{2}} + \\frac{\\left(- L_{y} + V_{y}\\right)^{2}}{\\left(- L_{x} + V_{x}\\right)^{2} + \\left(- L_{y} + V_{y}\\right)^{2} + \\left(- L_{z} + V_{z}\\right)^{2}} + \\frac{\\left(- L_{z} + V_{z}\\right)^{2}}{\\left(- L_{x} + V_{x}\\right)^{2} + \\left(- L_{y} + V_{y}\\right)^{2} + \\left(- L_{z} + V_{z}\\right)^{2}}\\right) \\sqrt{\\left(- L_{x} + V_{x}\\right)^{2} + \\left(- L_{y} + V_{y}\\right)^{2} + \\left(- L_{z} + V_{z}\\right)^{2}}}\\right) - V_{z} \\left(\\frac{- L_{z} + V_{z}}{\\sqrt{\\left(- L_{x} + V_{x}\\right)^{2} + \\left(- L_{y} + V_{y}\\right)^{2} + \\left(- L_{z} + V_{z}\\right)^{2}}} - \\frac{2 \\left(- L_{z} + V_{z}\\right) \\left(\\frac{N_{x} \\left(- L_{x} + V_{x}\\right)}{\\sqrt{\\left(- L_{x} + V_{x}\\right)^{2} + \\left(- L_{y} + V_{y}\\right)^{2} + \\left(- L_{z} + V_{z}\\right)^{2}}} + \\frac{N_{y} \\left(- L_{y} + V_{y}\\right)}{\\sqrt{\\left(- L_{x} + V_{x}\\right)^{2} + \\left(- L_{y} + V_{y}\\right)^{2} + \\left(- L_{z} + V_{z}\\right)^{2}}} + \\frac{N_{z} \\left(- L_{z} + V_{z}\\right)}{\\sqrt{\\left(- L_{x} + V_{x}\\right)^{2} + \\left(- L_{y} + V_{y}\\right)^{2} + \\left(- L_{z} + V_{z}\\right)^{2}}}\\right)}{\\left(\\frac{\\left(- L_{x} + V_{x}\\right)^{2}}{\\left(- L_{x} + V_{x}\\right)^{2} + \\left(- L_{y} + V_{y}\\right)^{2} + \\left(- L_{z} + V_{z}\\right)^{2}} + \\frac{\\left(- L_{y} + V_{y}\\right)^{2}}{\\left(- L_{x} + V_{x}\\right)^{2} + \\left(- L_{y} + V_{y}\\right)^{2} + \\left(- L_{z} + V_{z}\\right)^{2}} + \\frac{\\left(- L_{z} + V_{z}\\right)^{2}}{\\left(- L_{x} + V_{x}\\right)^{2} + \\left(- L_{y} + V_{y}\\right)^{2} + \\left(- L_{z} + V_{z}\\right)^{2}}\\right) \\sqrt{\\left(- L_{x} + V_{x}\\right)^{2} + \\left(- L_{y} + V_{y}\\right)^{2} + \\left(- L_{z} + V_{z}\\right)^{2}}}\\right)\\right)$"
      ],
      "text/plain": [
       "Eq(specular, Max(0, -V_x*((-L_x + V_x)/sqrt((-L_x + V_x)**2 + (-L_y + V_y)**2 + (-L_z + V_z)**2) - 2*(-L_x + V_x)*(N_x*(-L_x + V_x)/sqrt((-L_x + V_x)**2 + (-L_y + V_y)**2 + (-L_z + V_z)**2) + N_y*(-L_y + V_y)/sqrt((-L_x + V_x)**2 + (-L_y + V_y)**2 + (-L_z + V_z)**2) + N_z*(-L_z + V_z)/sqrt((-L_x + V_x)**2 + (-L_y + V_y)**2 + (-L_z + V_z)**2))/(((-L_x + V_x)**2/((-L_x + V_x)**2 + (-L_y + V_y)**2 + (-L_z + V_z)**2) + (-L_y + V_y)**2/((-L_x + V_x)**2 + (-L_y + V_y)**2 + (-L_z + V_z)**2) + (-L_z + V_z)**2/((-L_x + V_x)**2 + (-L_y + V_y)**2 + (-L_z + V_z)**2))*sqrt((-L_x + V_x)**2 + (-L_y + V_y)**2 + (-L_z + V_z)**2))) - V_y*((-L_y + V_y)/sqrt((-L_x + V_x)**2 + (-L_y + V_y)**2 + (-L_z + V_z)**2) - 2*(-L_y + V_y)*(N_x*(-L_x + V_x)/sqrt((-L_x + V_x)**2 + (-L_y + V_y)**2 + (-L_z + V_z)**2) + N_y*(-L_y + V_y)/sqrt((-L_x + V_x)**2 + (-L_y + V_y)**2 + (-L_z + V_z)**2) + N_z*(-L_z + V_z)/sqrt((-L_x + V_x)**2 + (-L_y + V_y)**2 + (-L_z + V_z)**2))/(((-L_x + V_x)**2/((-L_x + V_x)**2 + (-L_y + V_y)**2 + (-L_z + V_z)**2) + (-L_y + V_y)**2/((-L_x + V_x)**2 + (-L_y + V_y)**2 + (-L_z + V_z)**2) + (-L_z + V_z)**2/((-L_x + V_x)**2 + (-L_y + V_y)**2 + (-L_z + V_z)**2))*sqrt((-L_x + V_x)**2 + (-L_y + V_y)**2 + (-L_z + V_z)**2))) - V_z*((-L_z + V_z)/sqrt((-L_x + V_x)**2 + (-L_y + V_y)**2 + (-L_z + V_z)**2) - 2*(-L_z + V_z)*(N_x*(-L_x + V_x)/sqrt((-L_x + V_x)**2 + (-L_y + V_y)**2 + (-L_z + V_z)**2) + N_y*(-L_y + V_y)/sqrt((-L_x + V_x)**2 + (-L_y + V_y)**2 + (-L_z + V_z)**2) + N_z*(-L_z + V_z)/sqrt((-L_x + V_x)**2 + (-L_y + V_y)**2 + (-L_z + V_z)**2))/(((-L_x + V_x)**2/((-L_x + V_x)**2 + (-L_y + V_y)**2 + (-L_z + V_z)**2) + (-L_y + V_y)**2/((-L_x + V_x)**2 + (-L_y + V_y)**2 + (-L_z + V_z)**2) + (-L_z + V_z)**2/((-L_x + V_x)**2 + (-L_y + V_y)**2 + (-L_z + V_z)**2))*sqrt((-L_x + V_x)**2 + (-L_y + V_y)**2 + (-L_z + V_z)**2)))))"
      ]
     },
     "metadata": {},
     "output_type": "display_data"
    },
    {
     "data": {
      "text/latex": [
       "$\\displaystyle \\frac{E \\left(N_{x} \\left(L_{x} - V_{x}\\right) + N_{y} \\left(L_{y} - V_{y}\\right) + N_{z} \\left(L_{z} - V_{z}\\right)\\right)}{\\left(\\left(L_{x} - V_{x}\\right)^{2} + \\left(L_{y} - V_{y}\\right)^{2} + \\left(L_{z} - V_{z}\\right)^{2}\\right)^{\\frac{3}{2}}}$"
      ],
      "text/plain": [
       "E*(N_x*(L_x - V_x) + N_y*(L_y - V_y) + N_z*(L_z - V_z))/((L_x - V_x)**2 + (L_y - V_y)**2 + (L_z - V_z)**2)**(3/2)"
      ]
     },
     "metadata": {},
     "output_type": "display_data"
    },
    {
     "data": {
      "text/plain": [
       "17"
      ]
     },
     "execution_count": 10,
     "metadata": {},
     "output_type": "execute_result"
    }
   ],
   "source": [
    "#point\n",
    "Ldir=(View-Lpos).normalize()\n",
    "diffuse=dot(-Ldir,Norm)\n",
    "display(Eq(Symbol('diffuse'),diffuse))\n",
    "\n",
    "Refl=Ldir-2*Ldir.projection(Norm)\n",
    "specular=Max(dot(-View,Refl),0)\n",
    "display(Eq(Symbol('specular'),specular))\n",
    "\n",
    "dist=(Lpos-View).magnitude()\n",
    "atten=1/(dist**2)\n",
    "\n",
    "pointlight=(diffuse)*atten*Energy\n",
    "pointlight = simplify(pointlight)\n",
    "display(pointlight)\n",
    "count_ops(cse(pointlight))"
   ]
  },
  {
   "cell_type": "code",
   "execution_count": 14,
   "metadata": {},
   "outputs": [
    {
     "data": {
      "text/latex": [
       "$\\displaystyle \\frac{E \\left(N_{x} \\left(L_{a x} \\left(1 - t\\right) + L_{b x} t - V_{x}\\right) + N_{y} \\left(L_{a y} \\left(1 - t\\right) + L_{b y} t - V_{y}\\right) + N_{z} \\left(L_{a z} \\left(1 - t\\right) + L_{b z} t - V_{z}\\right)\\right)}{\\left(\\left(L_{a x} \\left(1 - t\\right) + L_{b x} t - V_{x}\\right)^{2} + \\left(L_{a y} \\left(1 - t\\right) + L_{b y} t - V_{y}\\right)^{2} + \\left(L_{a z} \\left(1 - t\\right) + L_{b z} t - V_{z}\\right)^{2}\\right)^{\\frac{3}{2}}}$"
      ],
      "text/plain": [
       "E*(N_x*(L_a_x*(1 - t) + L_b_x*t - V_x) + N_y*(L_a_y*(1 - t) + L_b_y*t - V_y) + N_z*(L_a_z*(1 - t) + L_b_z*t - V_z))/((L_a_x*(1 - t) + L_b_x*t - V_x)**2 + (L_a_y*(1 - t) + L_b_y*t - V_y)**2 + (L_a_z*(1 - t) + L_b_z*t - V_z)**2)**(3/2)"
      ]
     },
     "metadata": {},
     "output_type": "display_data"
    },
    {
     "ename": "KeyboardInterrupt",
     "evalue": "",
     "output_type": "error",
     "traceback": [
      "\u001b[0;31m---------------------------------------------------------------------------\u001b[0m",
      "\u001b[0;31mKeyboardInterrupt\u001b[0m                         Traceback (most recent call last)",
      "Cell \u001b[0;32mIn[14], line 8\u001b[0m\n\u001b[1;32m      6\u001b[0m linelight \u001b[38;5;241m=\u001b[39m pointlight\u001b[38;5;241m.\u001b[39msubs({Lpos\u001b[38;5;241m.\u001b[39mcomponents[c]:lerped_lpos\u001b[38;5;241m.\u001b[39mcomponents[c] \u001b[38;5;28;01mfor\u001b[39;00m c \u001b[38;5;129;01min\u001b[39;00m [i,j,k]})\n\u001b[1;32m      7\u001b[0m display(linelight)\n\u001b[0;32m----> 8\u001b[0m linelight \u001b[38;5;241m=\u001b[39m \u001b[43mintegrate\u001b[49m\u001b[43m(\u001b[49m\u001b[43mlinelight\u001b[49m\u001b[43m,\u001b[49m\u001b[43mt\u001b[49m\u001b[43m)\u001b[49m\u001b[38;5;241;43m.\u001b[39;49m\u001b[43mdoit\u001b[49m\u001b[43m(\u001b[49m\u001b[43m)\u001b[49m\n\u001b[1;32m      9\u001b[0m display(linelight)\n",
      "File \u001b[0;32m/usr/lib/python3.12/site-packages/sympy/core/operations.py:455\u001b[0m, in \u001b[0;36mAssocOp.doit\u001b[0;34m(self, **hints)\u001b[0m\n\u001b[1;32m    453\u001b[0m \u001b[38;5;28;01mdef\u001b[39;00m \u001b[38;5;21mdoit\u001b[39m(\u001b[38;5;28mself\u001b[39m, \u001b[38;5;241m*\u001b[39m\u001b[38;5;241m*\u001b[39mhints):\n\u001b[1;32m    454\u001b[0m     \u001b[38;5;28;01mif\u001b[39;00m hints\u001b[38;5;241m.\u001b[39mget(\u001b[38;5;124m'\u001b[39m\u001b[38;5;124mdeep\u001b[39m\u001b[38;5;124m'\u001b[39m, \u001b[38;5;28;01mTrue\u001b[39;00m):\n\u001b[0;32m--> 455\u001b[0m         terms \u001b[38;5;241m=\u001b[39m [\u001b[43mterm\u001b[49m\u001b[38;5;241;43m.\u001b[39;49m\u001b[43mdoit\u001b[49m\u001b[43m(\u001b[49m\u001b[38;5;241;43m*\u001b[39;49m\u001b[38;5;241;43m*\u001b[39;49m\u001b[43mhints\u001b[49m\u001b[43m)\u001b[49m \u001b[38;5;28;01mfor\u001b[39;00m term \u001b[38;5;129;01min\u001b[39;00m \u001b[38;5;28mself\u001b[39m\u001b[38;5;241m.\u001b[39margs]\n\u001b[1;32m    456\u001b[0m     \u001b[38;5;28;01melse\u001b[39;00m:\n\u001b[1;32m    457\u001b[0m         terms \u001b[38;5;241m=\u001b[39m \u001b[38;5;28mself\u001b[39m\u001b[38;5;241m.\u001b[39margs\n",
      "File \u001b[0;32m/usr/lib/python3.12/site-packages/sympy/core/operations.py:455\u001b[0m, in \u001b[0;36mAssocOp.doit\u001b[0;34m(self, **hints)\u001b[0m\n\u001b[1;32m    453\u001b[0m \u001b[38;5;28;01mdef\u001b[39;00m \u001b[38;5;21mdoit\u001b[39m(\u001b[38;5;28mself\u001b[39m, \u001b[38;5;241m*\u001b[39m\u001b[38;5;241m*\u001b[39mhints):\n\u001b[1;32m    454\u001b[0m     \u001b[38;5;28;01mif\u001b[39;00m hints\u001b[38;5;241m.\u001b[39mget(\u001b[38;5;124m'\u001b[39m\u001b[38;5;124mdeep\u001b[39m\u001b[38;5;124m'\u001b[39m, \u001b[38;5;28;01mTrue\u001b[39;00m):\n\u001b[0;32m--> 455\u001b[0m         terms \u001b[38;5;241m=\u001b[39m [\u001b[43mterm\u001b[49m\u001b[38;5;241;43m.\u001b[39;49m\u001b[43mdoit\u001b[49m\u001b[43m(\u001b[49m\u001b[38;5;241;43m*\u001b[39;49m\u001b[38;5;241;43m*\u001b[39;49m\u001b[43mhints\u001b[49m\u001b[43m)\u001b[49m \u001b[38;5;28;01mfor\u001b[39;00m term \u001b[38;5;129;01min\u001b[39;00m \u001b[38;5;28mself\u001b[39m\u001b[38;5;241m.\u001b[39margs]\n\u001b[1;32m    456\u001b[0m     \u001b[38;5;28;01melse\u001b[39;00m:\n\u001b[1;32m    457\u001b[0m         terms \u001b[38;5;241m=\u001b[39m \u001b[38;5;28mself\u001b[39m\u001b[38;5;241m.\u001b[39margs\n",
      "File \u001b[0;32m/usr/lib/python3.12/site-packages/sympy/integrals/integrals.py:619\u001b[0m, in \u001b[0;36mIntegral.doit\u001b[0;34m(self, **hints)\u001b[0m\n\u001b[1;32m    617\u001b[0m     antideriv \u001b[38;5;241m=\u001b[39m \u001b[38;5;28;01mNone\u001b[39;00m\n\u001b[1;32m    618\u001b[0m \u001b[38;5;28;01melse\u001b[39;00m:\n\u001b[0;32m--> 619\u001b[0m     antideriv \u001b[38;5;241m=\u001b[39m \u001b[38;5;28;43mself\u001b[39;49m\u001b[38;5;241;43m.\u001b[39;49m\u001b[43m_eval_integral\u001b[49m\u001b[43m(\u001b[49m\n\u001b[1;32m    620\u001b[0m \u001b[43m        \u001b[49m\u001b[43mfunction\u001b[49m\u001b[43m,\u001b[49m\u001b[43m \u001b[49m\u001b[43mxab\u001b[49m\u001b[43m[\u001b[49m\u001b[38;5;241;43m0\u001b[39;49m\u001b[43m]\u001b[49m\u001b[43m,\u001b[49m\u001b[43m \u001b[49m\u001b[38;5;241;43m*\u001b[39;49m\u001b[38;5;241;43m*\u001b[39;49m\u001b[43meval_kwargs\u001b[49m\u001b[43m)\u001b[49m\n\u001b[1;32m    621\u001b[0m     \u001b[38;5;28;01mif\u001b[39;00m antideriv \u001b[38;5;129;01mis\u001b[39;00m \u001b[38;5;28;01mNone\u001b[39;00m \u001b[38;5;129;01mand\u001b[39;00m meijerg \u001b[38;5;129;01mis\u001b[39;00m \u001b[38;5;28;01mTrue\u001b[39;00m:\n\u001b[1;32m    622\u001b[0m         ret \u001b[38;5;241m=\u001b[39m try_meijerg(function, xab)\n",
      "File \u001b[0;32m/usr/lib/python3.12/site-packages/sympy/integrals/integrals.py:1091\u001b[0m, in \u001b[0;36mIntegral._eval_integral\u001b[0;34m(self, f, x, meijerg, risch, manual, heurisch, conds, final)\u001b[0m\n\u001b[1;32m   1089\u001b[0m \u001b[38;5;28;01mtry\u001b[39;00m:\n\u001b[1;32m   1090\u001b[0m     \u001b[38;5;28;01mif\u001b[39;00m conds \u001b[38;5;241m==\u001b[39m \u001b[38;5;124m'\u001b[39m\u001b[38;5;124mpiecewise\u001b[39m\u001b[38;5;124m'\u001b[39m:\n\u001b[0;32m-> 1091\u001b[0m         h \u001b[38;5;241m=\u001b[39m \u001b[43mheurisch_wrapper\u001b[49m\u001b[43m(\u001b[49m\u001b[43mg\u001b[49m\u001b[43m,\u001b[49m\u001b[43m \u001b[49m\u001b[43mx\u001b[49m\u001b[43m,\u001b[49m\u001b[43m \u001b[49m\u001b[43mhints\u001b[49m\u001b[38;5;241;43m=\u001b[39;49m\u001b[43m[\u001b[49m\u001b[43m]\u001b[49m\u001b[43m)\u001b[49m\n\u001b[1;32m   1092\u001b[0m     \u001b[38;5;28;01melse\u001b[39;00m:\n\u001b[1;32m   1093\u001b[0m         h \u001b[38;5;241m=\u001b[39m heurisch_(g, x, hints\u001b[38;5;241m=\u001b[39m[])\n",
      "File \u001b[0;32m/usr/lib/python3.12/site-packages/sympy/integrals/heurisch.py:144\u001b[0m, in \u001b[0;36mheurisch_wrapper\u001b[0;34m(f, x, rewrite, hints, mappings, retries, degree_offset, unnecessary_permutations, _try_heurisch)\u001b[0m\n\u001b[1;32m    141\u001b[0m \u001b[38;5;28;01mif\u001b[39;00m \u001b[38;5;129;01mnot\u001b[39;00m f\u001b[38;5;241m.\u001b[39mhas_free(x):\n\u001b[1;32m    142\u001b[0m     \u001b[38;5;28;01mreturn\u001b[39;00m f\u001b[38;5;241m*\u001b[39mx\n\u001b[0;32m--> 144\u001b[0m res \u001b[38;5;241m=\u001b[39m \u001b[43mheurisch\u001b[49m\u001b[43m(\u001b[49m\u001b[43mf\u001b[49m\u001b[43m,\u001b[49m\u001b[43m \u001b[49m\u001b[43mx\u001b[49m\u001b[43m,\u001b[49m\u001b[43m \u001b[49m\u001b[43mrewrite\u001b[49m\u001b[43m,\u001b[49m\u001b[43m \u001b[49m\u001b[43mhints\u001b[49m\u001b[43m,\u001b[49m\u001b[43m \u001b[49m\u001b[43mmappings\u001b[49m\u001b[43m,\u001b[49m\u001b[43m \u001b[49m\u001b[43mretries\u001b[49m\u001b[43m,\u001b[49m\u001b[43m \u001b[49m\u001b[43mdegree_offset\u001b[49m\u001b[43m,\u001b[49m\n\u001b[1;32m    145\u001b[0m \u001b[43m               \u001b[49m\u001b[43munnecessary_permutations\u001b[49m\u001b[43m,\u001b[49m\u001b[43m \u001b[49m\u001b[43m_try_heurisch\u001b[49m\u001b[43m)\u001b[49m\n\u001b[1;32m    146\u001b[0m \u001b[38;5;28;01mif\u001b[39;00m \u001b[38;5;129;01mnot\u001b[39;00m \u001b[38;5;28misinstance\u001b[39m(res, Basic):\n\u001b[1;32m    147\u001b[0m     \u001b[38;5;28;01mreturn\u001b[39;00m res\n",
      "File \u001b[0;32m/usr/lib/python3.12/site-packages/sympy/integrals/heurisch.py:764\u001b[0m, in \u001b[0;36mheurisch\u001b[0;34m(f, x, rewrite, hints, mappings, retries, degree_offset, unnecessary_permutations, _try_heurisch)\u001b[0m\n\u001b[1;32m    762\u001b[0m         solution \u001b[38;5;241m=\u001b[39m _integrate()\n\u001b[1;32m    763\u001b[0m \u001b[38;5;28;01melse\u001b[39;00m:\n\u001b[0;32m--> 764\u001b[0m     solution \u001b[38;5;241m=\u001b[39m \u001b[43m_integrate\u001b[49m\u001b[43m(\u001b[49m\u001b[43m)\u001b[49m\n\u001b[1;32m    766\u001b[0m \u001b[38;5;28;01mif\u001b[39;00m solution \u001b[38;5;129;01mis\u001b[39;00m \u001b[38;5;129;01mnot\u001b[39;00m \u001b[38;5;28;01mNone\u001b[39;00m:\n\u001b[1;32m    767\u001b[0m     antideriv \u001b[38;5;241m=\u001b[39m solution\u001b[38;5;241m.\u001b[39msubs(rev_mapping)\n",
      "File \u001b[0;32m/usr/lib/python3.12/site-packages/sympy/integrals/heurisch.py:740\u001b[0m, in \u001b[0;36mheurisch.<locals>._integrate\u001b[0;34m(field)\u001b[0m\n\u001b[1;32m    738\u001b[0m ring \u001b[38;5;241m=\u001b[39m PolyRing(V, coeff_ring)\n\u001b[1;32m    739\u001b[0m \u001b[38;5;28;01mtry\u001b[39;00m:\n\u001b[0;32m--> 740\u001b[0m     numer \u001b[38;5;241m=\u001b[39m \u001b[43mring\u001b[49m\u001b[38;5;241;43m.\u001b[39;49m\u001b[43mfrom_expr\u001b[49m\u001b[43m(\u001b[49m\u001b[43mraw_numer\u001b[49m\u001b[43m)\u001b[49m\n\u001b[1;32m    741\u001b[0m \u001b[38;5;28;01mexcept\u001b[39;00m \u001b[38;5;167;01mValueError\u001b[39;00m:\n\u001b[1;32m    742\u001b[0m     \u001b[38;5;28;01mraise\u001b[39;00m PolynomialError\n",
      "File \u001b[0;32m/usr/lib/python3.12/site-packages/sympy/polys/rings.py:397\u001b[0m, in \u001b[0;36mPolyRing.from_expr\u001b[0;34m(self, expr)\u001b[0m\n\u001b[1;32m    394\u001b[0m mapping \u001b[38;5;241m=\u001b[39m \u001b[38;5;28mdict\u001b[39m(\u001b[38;5;28mlist\u001b[39m(\u001b[38;5;28mzip\u001b[39m(\u001b[38;5;28mself\u001b[39m\u001b[38;5;241m.\u001b[39msymbols, \u001b[38;5;28mself\u001b[39m\u001b[38;5;241m.\u001b[39mgens)))\n\u001b[1;32m    396\u001b[0m \u001b[38;5;28;01mtry\u001b[39;00m:\n\u001b[0;32m--> 397\u001b[0m     poly \u001b[38;5;241m=\u001b[39m \u001b[38;5;28;43mself\u001b[39;49m\u001b[38;5;241;43m.\u001b[39;49m\u001b[43m_rebuild_expr\u001b[49m\u001b[43m(\u001b[49m\u001b[43mexpr\u001b[49m\u001b[43m,\u001b[49m\u001b[43m \u001b[49m\u001b[43mmapping\u001b[49m\u001b[43m)\u001b[49m\n\u001b[1;32m    398\u001b[0m \u001b[38;5;28;01mexcept\u001b[39;00m CoercionFailed:\n\u001b[1;32m    399\u001b[0m     \u001b[38;5;28;01mraise\u001b[39;00m \u001b[38;5;167;01mValueError\u001b[39;00m(\u001b[38;5;124m\"\u001b[39m\u001b[38;5;124mexpected an expression convertible to a polynomial in \u001b[39m\u001b[38;5;132;01m%s\u001b[39;00m\u001b[38;5;124m, got \u001b[39m\u001b[38;5;132;01m%s\u001b[39;00m\u001b[38;5;124m\"\u001b[39m \u001b[38;5;241m%\u001b[39m (\u001b[38;5;28mself\u001b[39m, expr))\n",
      "File \u001b[0;32m/usr/lib/python3.12/site-packages/sympy/polys/rings.py:391\u001b[0m, in \u001b[0;36mPolyRing._rebuild_expr\u001b[0;34m(self, expr, mapping)\u001b[0m\n\u001b[1;32m    388\u001b[0m         \u001b[38;5;28;01melse\u001b[39;00m:\n\u001b[1;32m    389\u001b[0m             \u001b[38;5;28;01mreturn\u001b[39;00m \u001b[38;5;28mself\u001b[39m\u001b[38;5;241m.\u001b[39mground_new(domain\u001b[38;5;241m.\u001b[39mconvert(expr))\n\u001b[0;32m--> 391\u001b[0m \u001b[38;5;28;01mreturn\u001b[39;00m \u001b[43m_rebuild\u001b[49m\u001b[43m(\u001b[49m\u001b[43msympify\u001b[49m\u001b[43m(\u001b[49m\u001b[43mexpr\u001b[49m\u001b[43m)\u001b[49m\u001b[43m)\u001b[49m\n",
      "File \u001b[0;32m/usr/lib/python3.12/site-packages/sympy/polys/rings.py:379\u001b[0m, in \u001b[0;36mPolyRing._rebuild_expr.<locals>._rebuild\u001b[0;34m(expr)\u001b[0m\n\u001b[1;32m    377\u001b[0m     \u001b[38;5;28;01mreturn\u001b[39;00m generator\n\u001b[1;32m    378\u001b[0m \u001b[38;5;28;01melif\u001b[39;00m expr\u001b[38;5;241m.\u001b[39mis_Add:\n\u001b[0;32m--> 379\u001b[0m     \u001b[38;5;28;01mreturn\u001b[39;00m reduce(add, \u001b[38;5;28;43mlist\u001b[39;49m\u001b[43m(\u001b[49m\u001b[38;5;28;43mmap\u001b[39;49m\u001b[43m(\u001b[49m\u001b[43m_rebuild\u001b[49m\u001b[43m,\u001b[49m\u001b[43m \u001b[49m\u001b[43mexpr\u001b[49m\u001b[38;5;241;43m.\u001b[39;49m\u001b[43margs\u001b[49m\u001b[43m)\u001b[49m\u001b[43m)\u001b[49m)\n\u001b[1;32m    380\u001b[0m \u001b[38;5;28;01melif\u001b[39;00m expr\u001b[38;5;241m.\u001b[39mis_Mul:\n\u001b[1;32m    381\u001b[0m     \u001b[38;5;28;01mreturn\u001b[39;00m reduce(mul, \u001b[38;5;28mlist\u001b[39m(\u001b[38;5;28mmap\u001b[39m(_rebuild, expr\u001b[38;5;241m.\u001b[39margs)))\n",
      "File \u001b[0;32m/usr/lib/python3.12/site-packages/sympy/polys/rings.py:381\u001b[0m, in \u001b[0;36mPolyRing._rebuild_expr.<locals>._rebuild\u001b[0;34m(expr)\u001b[0m\n\u001b[1;32m    379\u001b[0m     \u001b[38;5;28;01mreturn\u001b[39;00m reduce(add, \u001b[38;5;28mlist\u001b[39m(\u001b[38;5;28mmap\u001b[39m(_rebuild, expr\u001b[38;5;241m.\u001b[39margs)))\n\u001b[1;32m    380\u001b[0m \u001b[38;5;28;01melif\u001b[39;00m expr\u001b[38;5;241m.\u001b[39mis_Mul:\n\u001b[0;32m--> 381\u001b[0m     \u001b[38;5;28;01mreturn\u001b[39;00m \u001b[43mreduce\u001b[49m\u001b[43m(\u001b[49m\u001b[43mmul\u001b[49m\u001b[43m,\u001b[49m\u001b[43m \u001b[49m\u001b[38;5;28;43mlist\u001b[39;49m\u001b[43m(\u001b[49m\u001b[38;5;28;43mmap\u001b[39;49m\u001b[43m(\u001b[49m\u001b[43m_rebuild\u001b[49m\u001b[43m,\u001b[49m\u001b[43m \u001b[49m\u001b[43mexpr\u001b[49m\u001b[38;5;241;43m.\u001b[39;49m\u001b[43margs\u001b[49m\u001b[43m)\u001b[49m\u001b[43m)\u001b[49m\u001b[43m)\u001b[49m\n\u001b[1;32m    382\u001b[0m \u001b[38;5;28;01melse\u001b[39;00m:\n\u001b[1;32m    383\u001b[0m     \u001b[38;5;66;03m# XXX: Use as_base_exp() to handle Pow(x, n) and also exp(n)\u001b[39;00m\n\u001b[1;32m    384\u001b[0m     \u001b[38;5;66;03m# XXX: E can be a generator e.g. sring([exp(2)]) -> ZZ[E]\u001b[39;00m\n\u001b[1;32m    385\u001b[0m     base, exp \u001b[38;5;241m=\u001b[39m expr\u001b[38;5;241m.\u001b[39mas_base_exp()\n",
      "File \u001b[0;32m/usr/lib/python3.12/site-packages/sympy/polys/rings.py:1118\u001b[0m, in \u001b[0;36mPolyElement.__mul__\u001b[0;34m(p1, p2)\u001b[0m\n\u001b[1;32m   1116\u001b[0m     \u001b[38;5;28;01mfor\u001b[39;00m exp2, v2 \u001b[38;5;129;01min\u001b[39;00m p2it:\n\u001b[1;32m   1117\u001b[0m         exp \u001b[38;5;241m=\u001b[39m monomial_mul(exp1, exp2)\n\u001b[0;32m-> 1118\u001b[0m         p[exp] \u001b[38;5;241m=\u001b[39m \u001b[43mget\u001b[49m\u001b[43m(\u001b[49m\u001b[43mexp\u001b[49m\u001b[43m,\u001b[49m\u001b[43m \u001b[49m\u001b[43mzero\u001b[49m\u001b[43m)\u001b[49m\u001b[43m \u001b[49m\u001b[38;5;241;43m+\u001b[39;49m\u001b[43m \u001b[49m\u001b[43mv1\u001b[49m\u001b[38;5;241;43m*\u001b[39;49m\u001b[43mv2\u001b[49m\n\u001b[1;32m   1119\u001b[0m p\u001b[38;5;241m.\u001b[39mstrip_zero()\n\u001b[1;32m   1120\u001b[0m \u001b[38;5;28;01mreturn\u001b[39;00m p\n",
      "File \u001b[0;32m/usr/lib/python3.12/site-packages/sympy/polys/rings.py:957\u001b[0m, in \u001b[0;36mPolyElement.__add__\u001b[0;34m(p1, p2)\u001b[0m\n\u001b[1;32m    955\u001b[0m zero \u001b[38;5;241m=\u001b[39m ring\u001b[38;5;241m.\u001b[39mdomain\u001b[38;5;241m.\u001b[39mzero\n\u001b[1;32m    956\u001b[0m \u001b[38;5;28;01mfor\u001b[39;00m k, v \u001b[38;5;129;01min\u001b[39;00m p2\u001b[38;5;241m.\u001b[39mitems():\n\u001b[0;32m--> 957\u001b[0m     v \u001b[38;5;241m=\u001b[39m \u001b[43mget\u001b[49m\u001b[43m(\u001b[49m\u001b[43mk\u001b[49m\u001b[43m,\u001b[49m\u001b[43m \u001b[49m\u001b[43mzero\u001b[49m\u001b[43m)\u001b[49m\u001b[43m \u001b[49m\u001b[38;5;241;43m+\u001b[39;49m\u001b[43m \u001b[49m\u001b[43mv\u001b[49m\n\u001b[1;32m    958\u001b[0m     \u001b[38;5;28;01mif\u001b[39;00m v:\n\u001b[1;32m    959\u001b[0m         p[k] \u001b[38;5;241m=\u001b[39m v\n",
      "File \u001b[0;32m/usr/lib/python3.12/site-packages/sympy/polys/domains/expressiondomain.py:81\u001b[0m, in \u001b[0;36mExpressionDomain.Expression.__add__\u001b[0;34m(f, g)\u001b[0m\n\u001b[1;32m     79\u001b[0m     \u001b[38;5;28;01mreturn\u001b[39;00m g\n\u001b[1;32m     80\u001b[0m \u001b[38;5;28;01melse\u001b[39;00m:\n\u001b[0;32m---> 81\u001b[0m     \u001b[38;5;28;01mreturn\u001b[39;00m \u001b[43mf\u001b[49m\u001b[38;5;241;43m.\u001b[39;49m\u001b[43msimplify\u001b[49m\u001b[43m(\u001b[49m\u001b[43mf\u001b[49m\u001b[38;5;241;43m.\u001b[39;49m\u001b[43mex\u001b[49m\u001b[43m \u001b[49m\u001b[38;5;241;43m+\u001b[39;49m\u001b[43m \u001b[49m\u001b[43mg\u001b[49m\u001b[38;5;241;43m.\u001b[39;49m\u001b[43mex\u001b[49m\u001b[43m)\u001b[49m\n",
      "File \u001b[0;32m/usr/lib/python3.12/site-packages/sympy/polys/domains/expressiondomain.py:54\u001b[0m, in \u001b[0;36mExpressionDomain.Expression.simplify\u001b[0;34m(f, ex)\u001b[0m\n\u001b[1;32m     53\u001b[0m \u001b[38;5;28;01mdef\u001b[39;00m \u001b[38;5;21msimplify\u001b[39m(f, ex):\n\u001b[0;32m---> 54\u001b[0m     \u001b[38;5;28;01mreturn\u001b[39;00m f\u001b[38;5;241m.\u001b[39m\u001b[38;5;18m__class__\u001b[39m(\u001b[43mex\u001b[49m\u001b[38;5;241;43m.\u001b[39;49m\u001b[43mcancel\u001b[49m\u001b[43m(\u001b[49m\u001b[43m)\u001b[49m\u001b[38;5;241m.\u001b[39mexpand(\u001b[38;5;241m*\u001b[39m\u001b[38;5;241m*\u001b[39meflags))\n",
      "File \u001b[0;32m/usr/lib/python3.12/site-packages/sympy/core/expr.py:3782\u001b[0m, in \u001b[0;36mExpr.cancel\u001b[0;34m(self, *gens, **args)\u001b[0m\n\u001b[1;32m   3780\u001b[0m \u001b[38;5;250m\u001b[39m\u001b[38;5;124;03m\"\"\"See the cancel function in sympy.polys\"\"\"\u001b[39;00m\n\u001b[1;32m   3781\u001b[0m \u001b[38;5;28;01mfrom\u001b[39;00m \u001b[38;5;21;01msympy\u001b[39;00m\u001b[38;5;21;01m.\u001b[39;00m\u001b[38;5;21;01mpolys\u001b[39;00m\u001b[38;5;21;01m.\u001b[39;00m\u001b[38;5;21;01mpolytools\u001b[39;00m \u001b[38;5;28;01mimport\u001b[39;00m cancel\n\u001b[0;32m-> 3782\u001b[0m \u001b[38;5;28;01mreturn\u001b[39;00m \u001b[43mcancel\u001b[49m\u001b[43m(\u001b[49m\u001b[38;5;28;43mself\u001b[39;49m\u001b[43m,\u001b[49m\u001b[43m \u001b[49m\u001b[38;5;241;43m*\u001b[39;49m\u001b[43mgens\u001b[49m\u001b[43m,\u001b[49m\u001b[43m \u001b[49m\u001b[38;5;241;43m*\u001b[39;49m\u001b[38;5;241;43m*\u001b[39;49m\u001b[43margs\u001b[49m\u001b[43m)\u001b[49m\n",
      "File \u001b[0;32m/usr/lib/python3.12/site-packages/sympy/polys/polytools.py:7163\u001b[0m, in \u001b[0;36mcancel\u001b[0;34m(f, _signsimp, *gens, **args)\u001b[0m\n\u001b[1;32m   7161\u001b[0m     \u001b[38;5;28;01mif\u001b[39;00m f\u001b[38;5;241m.\u001b[39mis_Number \u001b[38;5;129;01mor\u001b[39;00m \u001b[38;5;28misinstance\u001b[39m(f, Relational) \u001b[38;5;129;01mor\u001b[39;00m \u001b[38;5;129;01mnot\u001b[39;00m \u001b[38;5;28misinstance\u001b[39m(f, Expr):\n\u001b[1;32m   7162\u001b[0m         \u001b[38;5;28;01mreturn\u001b[39;00m f\n\u001b[0;32m-> 7163\u001b[0m     f \u001b[38;5;241m=\u001b[39m \u001b[43mfactor_terms\u001b[49m\u001b[43m(\u001b[49m\u001b[43mf\u001b[49m\u001b[43m,\u001b[49m\u001b[43m \u001b[49m\u001b[43mradical\u001b[49m\u001b[38;5;241;43m=\u001b[39;49m\u001b[38;5;28;43;01mTrue\u001b[39;49;00m\u001b[43m)\u001b[49m\n\u001b[1;32m   7164\u001b[0m     p, q \u001b[38;5;241m=\u001b[39m f\u001b[38;5;241m.\u001b[39mas_numer_denom()\n\u001b[1;32m   7166\u001b[0m \u001b[38;5;28;01melif\u001b[39;00m \u001b[38;5;28mlen\u001b[39m(f) \u001b[38;5;241m==\u001b[39m \u001b[38;5;241m2\u001b[39m:\n",
      "File \u001b[0;32m/usr/lib/python3.12/site-packages/sympy/core/exprtools.py:1267\u001b[0m, in \u001b[0;36mfactor_terms\u001b[0;34m(expr, radical, clear, fraction, sign)\u001b[0m\n\u001b[1;32m   1265\u001b[0m     \u001b[38;5;28;01mreturn\u001b[39;00m rv\n\u001b[1;32m   1266\u001b[0m expr \u001b[38;5;241m=\u001b[39m sympify(expr)\n\u001b[0;32m-> 1267\u001b[0m \u001b[38;5;28;01mreturn\u001b[39;00m \u001b[43mdo\u001b[49m\u001b[43m(\u001b[49m\u001b[43mexpr\u001b[49m\u001b[43m)\u001b[49m\n",
      "File \u001b[0;32m/usr/lib/python3.12/site-packages/sympy/core/exprtools.py:1240\u001b[0m, in \u001b[0;36mfactor_terms.<locals>.do\u001b[0;34m(expr)\u001b[0m\n\u001b[1;32m   1235\u001b[0m \u001b[38;5;28;01mif\u001b[39;00m \u001b[38;5;28misinstance\u001b[39m(expr, (Sum, Integral)):\n\u001b[1;32m   1236\u001b[0m     \u001b[38;5;28;01mreturn\u001b[39;00m _factor_sum_int(expr,\n\u001b[1;32m   1237\u001b[0m         radical\u001b[38;5;241m=\u001b[39mradical, clear\u001b[38;5;241m=\u001b[39mclear,\n\u001b[1;32m   1238\u001b[0m         fraction\u001b[38;5;241m=\u001b[39mfraction, sign\u001b[38;5;241m=\u001b[39msign)\n\u001b[0;32m-> 1240\u001b[0m cont, p \u001b[38;5;241m=\u001b[39m \u001b[43mexpr\u001b[49m\u001b[38;5;241;43m.\u001b[39;49m\u001b[43mas_content_primitive\u001b[49m\u001b[43m(\u001b[49m\u001b[43mradical\u001b[49m\u001b[38;5;241;43m=\u001b[39;49m\u001b[43mradical\u001b[49m\u001b[43m,\u001b[49m\u001b[43m \u001b[49m\u001b[43mclear\u001b[49m\u001b[38;5;241;43m=\u001b[39;49m\u001b[43mclear\u001b[49m\u001b[43m)\u001b[49m\n\u001b[1;32m   1241\u001b[0m \u001b[38;5;28;01mif\u001b[39;00m p\u001b[38;5;241m.\u001b[39mis_Add:\n\u001b[1;32m   1242\u001b[0m     list_args \u001b[38;5;241m=\u001b[39m [do(a) \u001b[38;5;28;01mfor\u001b[39;00m a \u001b[38;5;129;01min\u001b[39;00m Add\u001b[38;5;241m.\u001b[39mmake_args(p)]\n",
      "File \u001b[0;32m/usr/lib/python3.12/site-packages/sympy/core/add.py:1200\u001b[0m, in \u001b[0;36mAdd.as_content_primitive\u001b[0;34m(self, radical, clear)\u001b[0m\n\u001b[1;32m   1179\u001b[0m \u001b[38;5;28;01mdef\u001b[39;00m \u001b[38;5;21mas_content_primitive\u001b[39m(\u001b[38;5;28mself\u001b[39m, radical\u001b[38;5;241m=\u001b[39m\u001b[38;5;28;01mFalse\u001b[39;00m, clear\u001b[38;5;241m=\u001b[39m\u001b[38;5;28;01mTrue\u001b[39;00m):\n\u001b[1;32m   1180\u001b[0m \u001b[38;5;250m    \u001b[39m\u001b[38;5;124;03m\"\"\"Return the tuple (R, self/R) where R is the positive Rational\u001b[39;00m\n\u001b[1;32m   1181\u001b[0m \u001b[38;5;124;03m    extracted from self. If radical is True (default is False) then\u001b[39;00m\n\u001b[1;32m   1182\u001b[0m \u001b[38;5;124;03m    common radicals will be removed and included as a factor of the\u001b[39;00m\n\u001b[0;32m   (...)\u001b[0m\n\u001b[1;32m   1197\u001b[0m \u001b[38;5;124;03m    See docstring of Expr.as_content_primitive for more examples.\u001b[39;00m\n\u001b[1;32m   1198\u001b[0m \u001b[38;5;124;03m    \"\"\"\u001b[39;00m\n\u001b[1;32m   1199\u001b[0m     con, prim \u001b[38;5;241m=\u001b[39m \u001b[38;5;28;43mself\u001b[39;49m\u001b[38;5;241;43m.\u001b[39;49m\u001b[43mfunc\u001b[49m\u001b[43m(\u001b[49m\u001b[38;5;241;43m*\u001b[39;49m\u001b[43m[\u001b[49m\u001b[43m_keep_coeff\u001b[49m\u001b[43m(\u001b[49m\u001b[38;5;241;43m*\u001b[39;49m\u001b[43ma\u001b[49m\u001b[38;5;241;43m.\u001b[39;49m\u001b[43mas_content_primitive\u001b[49m\u001b[43m(\u001b[49m\n\u001b[0;32m-> 1200\u001b[0m \u001b[43m        \u001b[49m\u001b[43mradical\u001b[49m\u001b[38;5;241;43m=\u001b[39;49m\u001b[43mradical\u001b[49m\u001b[43m,\u001b[49m\u001b[43m \u001b[49m\u001b[43mclear\u001b[49m\u001b[38;5;241;43m=\u001b[39;49m\u001b[43mclear\u001b[49m\u001b[43m)\u001b[49m\u001b[43m)\u001b[49m\u001b[43m \u001b[49m\u001b[38;5;28;43;01mfor\u001b[39;49;00m\u001b[43m \u001b[49m\u001b[43ma\u001b[49m\u001b[43m \u001b[49m\u001b[38;5;129;43;01min\u001b[39;49;00m\u001b[43m \u001b[49m\u001b[38;5;28;43mself\u001b[39;49m\u001b[38;5;241;43m.\u001b[39;49m\u001b[43margs\u001b[49m\u001b[43m]\u001b[49m\u001b[43m)\u001b[49m\u001b[38;5;241;43m.\u001b[39;49m\u001b[43mprimitive\u001b[49m\u001b[43m(\u001b[49m\u001b[43m)\u001b[49m\n\u001b[1;32m   1201\u001b[0m     \u001b[38;5;28;01mif\u001b[39;00m \u001b[38;5;129;01mnot\u001b[39;00m clear \u001b[38;5;129;01mand\u001b[39;00m \u001b[38;5;129;01mnot\u001b[39;00m con\u001b[38;5;241m.\u001b[39mis_Integer \u001b[38;5;129;01mand\u001b[39;00m prim\u001b[38;5;241m.\u001b[39mis_Add:\n\u001b[1;32m   1202\u001b[0m         con, d \u001b[38;5;241m=\u001b[39m con\u001b[38;5;241m.\u001b[39mas_numer_denom()\n",
      "File \u001b[0;32m/usr/lib/python3.12/site-packages/sympy/core/add.py:1155\u001b[0m, in \u001b[0;36mAdd.primitive\u001b[0;34m(self)\u001b[0m\n\u001b[1;32m   1153\u001b[0m \u001b[38;5;28;01mif\u001b[39;00m \u001b[38;5;129;01mnot\u001b[39;00m inf:\n\u001b[1;32m   1154\u001b[0m     \u001b[38;5;28;01mfor\u001b[39;00m i, (p, q, term) \u001b[38;5;129;01min\u001b[39;00m \u001b[38;5;28menumerate\u001b[39m(terms):\n\u001b[0;32m-> 1155\u001b[0m         terms[i] \u001b[38;5;241m=\u001b[39m \u001b[43m_keep_coeff\u001b[49m\u001b[43m(\u001b[49m\u001b[43mRational\u001b[49m\u001b[43m(\u001b[49m\u001b[43m(\u001b[49m\u001b[43mp\u001b[49m\u001b[38;5;241;43m/\u001b[39;49m\u001b[38;5;241;43m/\u001b[39;49m\u001b[43mngcd\u001b[49m\u001b[43m)\u001b[49m\u001b[38;5;241;43m*\u001b[39;49m\u001b[43m(\u001b[49m\u001b[43mdlcm\u001b[49m\u001b[38;5;241;43m/\u001b[39;49m\u001b[38;5;241;43m/\u001b[39;49m\u001b[43mq\u001b[49m\u001b[43m)\u001b[49m\u001b[43m)\u001b[49m\u001b[43m,\u001b[49m\u001b[43m \u001b[49m\u001b[43mterm\u001b[49m\u001b[43m)\u001b[49m\n\u001b[1;32m   1156\u001b[0m \u001b[38;5;28;01melse\u001b[39;00m:\n\u001b[1;32m   1157\u001b[0m     \u001b[38;5;28;01mfor\u001b[39;00m i, (p, q, term) \u001b[38;5;129;01min\u001b[39;00m \u001b[38;5;28menumerate\u001b[39m(terms):\n",
      "File \u001b[0;32m/usr/lib/python3.12/site-packages/sympy/core/mul.py:2177\u001b[0m, in \u001b[0;36m_keep_coeff\u001b[0;34m(coeff, factors, clear, sign)\u001b[0m\n\u001b[1;32m   2175\u001b[0m     \u001b[38;5;28;01melse\u001b[39;00m:\n\u001b[1;32m   2176\u001b[0m         margs\u001b[38;5;241m.\u001b[39minsert(\u001b[38;5;241m0\u001b[39m, coeff)\n\u001b[0;32m-> 2177\u001b[0m     \u001b[38;5;28;01mreturn\u001b[39;00m \u001b[43mMul\u001b[49m\u001b[38;5;241;43m.\u001b[39;49m\u001b[43m_from_args\u001b[49m\u001b[43m(\u001b[49m\u001b[43mmargs\u001b[49m\u001b[43m)\u001b[49m\n\u001b[1;32m   2178\u001b[0m \u001b[38;5;28;01melse\u001b[39;00m:\n\u001b[1;32m   2179\u001b[0m     m \u001b[38;5;241m=\u001b[39m coeff\u001b[38;5;241m*\u001b[39mfactors\n",
      "File \u001b[0;32m/usr/lib/python3.12/site-packages/sympy/core/operations.py:119\u001b[0m, in \u001b[0;36mAssocOp._from_args\u001b[0;34m(cls, args, is_commutative)\u001b[0m\n\u001b[1;32m    116\u001b[0m \u001b[38;5;28;01melif\u001b[39;00m \u001b[38;5;28mlen\u001b[39m(args) \u001b[38;5;241m==\u001b[39m \u001b[38;5;241m1\u001b[39m:\n\u001b[1;32m    117\u001b[0m     \u001b[38;5;28;01mreturn\u001b[39;00m args[\u001b[38;5;241m0\u001b[39m]\n\u001b[0;32m--> 119\u001b[0m obj \u001b[38;5;241m=\u001b[39m \u001b[38;5;28;43msuper\u001b[39;49m\u001b[43m(\u001b[49m\u001b[43m)\u001b[49m\u001b[38;5;241;43m.\u001b[39;49m\u001b[38;5;21;43m__new__\u001b[39;49m\u001b[43m(\u001b[49m\u001b[38;5;28;43mcls\u001b[39;49m\u001b[43m,\u001b[49m\u001b[43m \u001b[49m\u001b[38;5;241;43m*\u001b[39;49m\u001b[43margs\u001b[49m\u001b[43m)\u001b[49m\n\u001b[1;32m    120\u001b[0m \u001b[38;5;28;01mif\u001b[39;00m is_commutative \u001b[38;5;129;01mis\u001b[39;00m \u001b[38;5;28;01mNone\u001b[39;00m:\n\u001b[1;32m    121\u001b[0m     is_commutative \u001b[38;5;241m=\u001b[39m fuzzy_and(a\u001b[38;5;241m.\u001b[39mis_commutative \u001b[38;5;28;01mfor\u001b[39;00m a \u001b[38;5;129;01min\u001b[39;00m args)\n",
      "File \u001b[0;32m/usr/lib/python3.12/site-packages/sympy/core/basic.py:230\u001b[0m, in \u001b[0;36mBasic.__new__\u001b[0;34m(cls, *args)\u001b[0m\n\u001b[1;32m    229\u001b[0m \u001b[38;5;28;01mdef\u001b[39;00m \u001b[38;5;21m__new__\u001b[39m(\u001b[38;5;28mcls\u001b[39m, \u001b[38;5;241m*\u001b[39margs):\n\u001b[0;32m--> 230\u001b[0m     obj \u001b[38;5;241m=\u001b[39m \u001b[38;5;28;43mobject\u001b[39;49m\u001b[38;5;241;43m.\u001b[39;49m\u001b[38;5;21;43m__new__\u001b[39;49m\u001b[43m(\u001b[49m\u001b[38;5;28;43mcls\u001b[39;49m\u001b[43m)\u001b[49m\n\u001b[1;32m    231\u001b[0m     obj\u001b[38;5;241m.\u001b[39m_assumptions \u001b[38;5;241m=\u001b[39m \u001b[38;5;28mcls\u001b[39m\u001b[38;5;241m.\u001b[39mdefault_assumptions\n\u001b[1;32m    232\u001b[0m     obj\u001b[38;5;241m.\u001b[39m_mhash \u001b[38;5;241m=\u001b[39m \u001b[38;5;28;01mNone\u001b[39;00m  \u001b[38;5;66;03m# will be set by __hash__ method.\u001b[39;00m\n",
      "\u001b[0;31mKeyboardInterrupt\u001b[0m: "
     ]
    }
   ],
   "source": [
    "\n",
    "Integral(pointlight, Lpos.components[i])\n",
    "LposA = makeVector(\"L_a\")\n",
    "LposB = makeVector(\"L_b\")\n",
    "t = symbols(\"t\")\n",
    "lerped_lpos = LposA*(1-t)+LposB*t\n",
    "linelight = pointlight.subs({Lpos.components[c]:lerped_lpos.components[c] for c in [i,j,k]})\n",
    "display(linelight)\n",
    "linelight = integrate(linelight,t).doit()\n",
    "display(linelight)"
   ]
  },
  {
   "cell_type": "code",
   "execution_count": null,
   "metadata": {},
   "outputs": [
    {
     "data": {
      "text/latex": [
       "$\\displaystyle \\frac{- L_{x} + V_{x}}{\\sqrt{\\left(- L_{x} + V_{x}\\right)^{2} + \\left(- L_{y} + V_{y}\\right)^{2} + \\left(- L_{z} + V_{z}\\right)^{2}}}$"
      ],
      "text/plain": [
       "(-L_x + V_x)/sqrt((-L_x + V_x)**2 + (-L_y + V_y)**2 + (-L_z + V_z)**2)"
      ]
     },
     "execution_count": 34,
     "metadata": {},
     "output_type": "execute_result"
    }
   ],
   "source": [
    "Ldir.components[i]"
   ]
  },
  {
   "cell_type": "code",
   "execution_count": null,
   "metadata": {},
   "outputs": [],
   "source": []
  }
 ],
 "metadata": {
  "kernelspec": {
   "display_name": "Python 3",
   "language": "python",
   "name": "python3"
  },
  "language_info": {
   "codemirror_mode": {
    "name": "ipython",
    "version": 3
   },
   "file_extension": ".py",
   "mimetype": "text/x-python",
   "name": "python",
   "nbconvert_exporter": "python",
   "pygments_lexer": "ipython3",
   "version": "3.12.7"
  }
 },
 "nbformat": 4,
 "nbformat_minor": 2
}
